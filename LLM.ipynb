{
  "nbformat": 4,
  "nbformat_minor": 0,
  "metadata": {
    "colab": {
      "provenance": []
    },
    "kernelspec": {
      "name": "python3",
      "display_name": "Python 3"
    },
    "language_info": {
      "name": "python"
    }
  },
  "cells": [
    {
      "cell_type": "code",
      "source": [
        "import pandas as pd\n"
      ],
      "metadata": {
        "id": "iwzaKWe35ilt"
      },
      "execution_count": null,
      "outputs": []
    },
    {
      "cell_type": "code",
      "source": [
        "# Load relevant files (adjust path as needed)\n",
        "patients = pd.read_csv(\"patients.csv\")\n",
        "conditions = pd.read_csv(\"conditions.csv\")\n",
        "medications = pd.read_csv(\"medications.csv\")\n",
        "observations = pd.read_csv(\"observations.csv\")\n",
        "encounters = pd.read_csv(\"encounters.csv\")\n"
      ],
      "metadata": {
        "id": "Ru6ms67f5evi"
      },
      "execution_count": null,
      "outputs": []
    },
    {
      "cell_type": "code",
      "source": [
        "# Pick a sample patient\n",
        "sample_patient_id = patients.iloc[0]['Id']\n",
        "sample_patient = patients[patients['Id'] == sample_patient_id]\n",
        "\n",
        "# Filter related data\n",
        "patient_conditions = conditions[conditions['PATIENT'] == sample_patient_id]\n",
        "patient_medications = medications[medications['PATIENT'] == sample_patient_id]\n",
        "patient_observations = observations[observations['PATIENT'] == sample_patient_id]\n",
        "patient_encounters = encounters[encounters['PATIENT'] == sample_patient_id]\n",
        "\n",
        "# Let's preview\n",
        "print(\"Patient Basic Info:\\n\", sample_patient)\n",
        "print(\"\\nConditions:\\n\", patient_conditions[['DESCRIPTION', 'START']])\n",
        "print(\"\\nMedications:\\n\", patient_medications[['DESCRIPTION', 'START']])\n",
        "print(\"\\nObservations:\\n\", patient_observations[['DESCRIPTION', 'VALUE', 'DATE']])\n"
      ],
      "metadata": {
        "colab": {
          "base_uri": "https://localhost:8080/"
        },
        "id": "ERkGtx8J52v1",
        "outputId": "d5d2af1f-69fc-4ac5-b766-db67865acdfe"
      },
      "execution_count": null,
      "outputs": [
        {
          "output_type": "stream",
          "name": "stdout",
          "text": [
            "Patient Basic Info:\n",
            "                                      Id   BIRTHDATE DEATHDATE          SSN  \\\n",
            "0  30a6452c-4297-a1ac-977a-6a23237c7b46  1994-02-06       NaN  999-52-8591   \n",
            "\n",
            "     DRIVERS    PASSPORT PREFIX      FIRST   MIDDLE      LAST  ...       CITY  \\\n",
            "0  S99996852  X47758697X    Mr.  Joshua658  Alvin56  Kunde533  ...  Braintree   \n",
            "\n",
            "           STATE          COUNTY     FIPS   ZIP        LAT        LON  \\\n",
            "0  Massachusetts  Norfolk County  25021.0  2184  42.211142 -71.045802   \n",
            "\n",
            "  HEALTHCARE_EXPENSES HEALTHCARE_COVERAGE  INCOME  \n",
            "0            56904.96            18019.99  100511  \n",
            "\n",
            "[1 rows x 28 columns]\n",
            "\n",
            "Conditions:\n",
            "                                    DESCRIPTION       START\n",
            "0             Housing unsatisfactory (finding)  2012-04-01\n",
            "1          Received higher education (finding)  2012-04-01\n",
            "2                  Transport problem (finding)  2012-04-01\n",
            "3                   Social isolation (finding)  2012-04-01\n",
            "4                             Stress (finding)  2012-04-01\n",
            "5            Medication review due (situation)  2013-04-07\n",
            "6               Full-time employment (finding)  2013-04-07\n",
            "7   Lack of access to transportation (finding)  2013-04-07\n",
            "8                  Fracture of bone (disorder)  2015-09-28\n",
            "9            Closed fracture of hip (disorder)  2015-09-28\n",
            "10            Limited social contact (finding)  2016-04-10\n",
            "11  Victim of intimate partner abuse (finding)  2016-04-10\n",
            "12                       Gingivitis (disorder)  2016-04-10\n",
            "25           Medication review due (situation)  2019-04-14\n",
            "26                            Stress (finding)  2019-04-14\n",
            "31            Sprain (morphologic abnormality)  2020-10-30\n",
            "32                  Sprain of ankle (disorder)  2020-10-30\n",
            "33          Acute viral pharyngitis (disorder)  2021-10-13\n",
            "34           Medication review due (situation)  2022-04-17\n",
            "35                       Prediabetes (finding)  2022-04-17\n",
            "36  Victim of intimate partner abuse (finding)  2022-04-17\n",
            "37                       Gingivitis (disorder)  2022-04-17\n",
            "\n",
            "Medications:\n",
            "                                          DESCRIPTION                 START\n",
            "0  Acetaminophen 325 MG / HYDROcodone Bitartrate ...  2015-09-28T11:02:48Z\n",
            "1                       Ibuprofen 200 MG Oral Tablet  2015-09-28T11:02:48Z\n",
            "3                   Acetaminophen 325 MG Oral Tablet  2020-10-30T11:02:48Z\n",
            "\n",
            "Observations:\n",
            "                                            DESCRIPTION  VALUE  \\\n",
            "0                                          Body Height  176.1   \n",
            "1    Pain severity - 0-10 verbal numeric rating [Sc...    3.0   \n",
            "2                                          Body Weight   86.4   \n",
            "3                        Body mass index (BMI) [Ratio]   27.9   \n",
            "4                             Diastolic Blood Pressure   94.0   \n",
            "..                                                 ...    ...   \n",
            "325                                               QOLS    1.0   \n",
            "326                                               QOLS    1.0   \n",
            "327                                               QOLS    1.0   \n",
            "328                                               QOLS    1.0   \n",
            "329                                               QOLS    1.0   \n",
            "\n",
            "                     DATE  \n",
            "0    2016-04-10T09:04:48Z  \n",
            "1    2016-04-10T09:04:48Z  \n",
            "2    2016-04-10T09:04:48Z  \n",
            "3    2016-04-10T09:04:48Z  \n",
            "4    2016-04-10T09:04:48Z  \n",
            "..                    ...  \n",
            "325  2020-02-06T09:04:48Z  \n",
            "326  2021-02-06T09:04:48Z  \n",
            "327  2022-02-06T09:04:48Z  \n",
            "328  2023-02-06T09:04:48Z  \n",
            "329  2024-02-06T09:04:48Z  \n",
            "\n",
            "[166 rows x 3 columns]\n"
          ]
        }
      ]
    },
    {
      "cell_type": "code",
      "source": [
        "# Example prompt construction\n",
        "prompt = f\"\"\"\n",
        "You are a medical assistant. Summarize the medical history of a patient for them in simple language.\n",
        "\n",
        "Patient conditions:\n",
        "{patient_conditions['DESCRIPTION'].tolist()}\n",
        "\n",
        "Medications prescribed:\n",
        "{patient_medications['DESCRIPTION'].tolist()}\n",
        "\n",
        "Recent observations:\n",
        "{patient_observations[['DESCRIPTION', 'VALUE']].head(5).values.tolist()}\n",
        "\n",
        "Please generate a friendly summary for the patient.\n",
        "\"\"\"\n",
        "\n",
        "print(prompt)\n"
      ],
      "metadata": {
        "colab": {
          "base_uri": "https://localhost:8080/"
        },
        "id": "8AfpvMx_7FNE",
        "outputId": "70d21d57-a881-4185-a17e-c56875f1d01d"
      },
      "execution_count": null,
      "outputs": [
        {
          "output_type": "stream",
          "name": "stdout",
          "text": [
            "\n",
            "You are a medical assistant. Summarize the medical history of a patient for them in simple language.\n",
            "\n",
            "Patient conditions:\n",
            "['Housing unsatisfactory (finding)', 'Received higher education (finding)', 'Transport problem (finding)', 'Social isolation (finding)', 'Stress (finding)', 'Medication review due (situation)', 'Full-time employment (finding)', 'Lack of access to transportation (finding)', 'Fracture of bone (disorder)', 'Closed fracture of hip (disorder)', 'Limited social contact (finding)', 'Victim of intimate partner abuse (finding)', 'Gingivitis (disorder)', 'Medication review due (situation)', 'Stress (finding)', 'Sprain (morphologic abnormality)', 'Sprain of ankle (disorder)', 'Acute viral pharyngitis (disorder)', 'Medication review due (situation)', 'Prediabetes (finding)', 'Victim of intimate partner abuse (finding)', 'Gingivitis (disorder)']\n",
            "\n",
            "Medications prescribed:\n",
            "['Acetaminophen 325 MG / HYDROcodone Bitartrate 7.5 MG Oral Tablet', 'Ibuprofen 200 MG Oral Tablet', 'Acetaminophen 325 MG Oral Tablet']\n",
            "\n",
            "Recent observations:\n",
            "[['Body Height', '176.1'], ['Pain severity - 0-10 verbal numeric rating [Score] - Reported', '3.0'], ['Body Weight', '86.4'], ['Body mass index (BMI) [Ratio]', '27.9'], ['Diastolic Blood Pressure', '94.0']]\n",
            "\n",
            "Please generate a friendly summary for the patient.\n",
            "\n"
          ]
        }
      ]
    },
    {
      "cell_type": "code",
      "source": [
        "prompt = f\"\"\"\n",
        "You are a medical assistant. Summarize the medical history of a patient for them in simple language.\n",
        "\n",
        "Example 1:\n",
        "Conditions: Hypertension, Type 2 Diabetes, Asthma\n",
        "Medications: Metformin, Lisinopril, Albuterol\n",
        "Observations: Blood Pressure: 145/90, Blood Sugar: 150 mg/dL, BMI: 30\n",
        "\n",
        "Patient Summary: The patient has a history of hypertension, Type 2 diabetes, and asthma. They are on medications to control their blood pressure, manage diabetes, and treat asthma. Their blood pressure and blood sugar levels are slightly elevated, and their BMI is in the overweight range.\n",
        "\n",
        "Example 2:\n",
        "Conditions: None\n",
        "Medications: None\n",
        "Observations: Blood Pressure: 120/80, Blood Sugar: 90 mg/dL, BMI: 22\n",
        "\n",
        "Patient Summary: The patient has no significant medical conditions and is in good health. Their blood pressure, blood sugar, and BMI are all within normal ranges.\n",
        "\n",
        "Patient conditions:\n",
        "{patient_conditions['DESCRIPTION'].tolist()}\n",
        "\n",
        "Medications prescribed:\n",
        "{patient_medications['DESCRIPTION'].tolist()}\n",
        "\n",
        "Recent observations:\n",
        "{patient_observations[['DESCRIPTION', 'VALUE']].head(5).values.tolist()}\n",
        "\n",
        "Please generate a friendly summary for the patient.\n",
        "\"\"\"\n"
      ],
      "metadata": {
        "id": "iXrI7VcoE2k8"
      },
      "execution_count": null,
      "outputs": []
    },
    {
      "cell_type": "code",
      "source": [
        "from transformers import pipeline\n",
        "\n",
        "# Load pre-trained model for summarization\n",
        "summarizer = pipeline(\"summarization\")\n",
        "\n",
        "# Your long medical text here\n",
        "text = \"\"\"\n",
        "Your long medical history or patient data text goes here.\n",
        "\"\"\"\n",
        "\n",
        "# Generate summary\n",
        "summary = summarizer(text, max_length=150, min_length=50, do_sample=False)\n",
        "print(summary)\n"
      ],
      "metadata": {
        "id": "ZvDPUk4M7Py4"
      },
      "execution_count": null,
      "outputs": []
    },
    {
      "cell_type": "code",
      "source": [
        "generator = pipeline(\"text-generation\", model=\"EleutherAI/gpt-neo-1.3B\")\n",
        "\n",
        "prompt = \"Patient has a history of stress, fractures, and prediabetes. Please generate a health summary.\"\n",
        "\n",
        "response = generator(prompt, max_length=100)\n",
        "print(response)\n"
      ],
      "metadata": {
        "id": "lXaQ05npFTnf"
      },
      "execution_count": null,
      "outputs": []
    },
    {
      "cell_type": "code",
      "source": [
        "from transformers import BartForConditionalGeneration, BartTokenizer\n",
        "\n",
        "tokenizer = BartTokenizer.from_pretrained('facebook/bart-large-cnn')\n",
        "model = BartForConditionalGeneration.from_pretrained('facebook/bart-large-cnn')\n",
        "\n",
        "inputs = tokenizer(\"Patient has a history of stress, fractures, and prediabetes. Please generate a health summary\", return_tensors='pt', max_length=1024, truncation=True)\n",
        "summary_ids = model.generate(inputs['input_ids'], max_length=150, num_beams=4, early_stopping=True)\n",
        "\n",
        "summary = tokenizer.decode(summary_ids[0], skip_special_tokens=True)\n",
        "print(summary)\n"
      ],
      "metadata": {
        "id": "oE9ei8d-B9y_"
      },
      "execution_count": null,
      "outputs": []
    },
    {
      "cell_type": "code",
      "source": [
        "# Load the pre-trained BART model and tokenizer\n",
        "tokenizer = BartTokenizer.from_pretrained('facebook/bart-large-cnn')\n",
        "model = BartForConditionalGeneration.from_pretrained('facebook/bart-large-cnn')\n",
        "\n",
        "# Your long text input (for example, a patient's medical data or any other long document)\n",
        "text = \"\"\"\n",
        "Your long medical history or patient data text goes here.\n",
        "This could include all the symptoms, treatments, diagnosis, and more details about the patient's condition.\n",
        "For example: The patient has a history of hypertension and diabetes and is currently being treated with medication X and Y.\n",
        "\"\"\"\n",
        "\n",
        "# Tokenize the input text\n",
        "inputs = tokenizer(text, return_tensors='pt', max_length=1024, truncation=True)\n",
        "\n",
        "# Generate a summary using the model\n",
        "summary_ids = model.generate(inputs['input_ids'], max_length=150, num_beams=4, early_stopping=True)\n",
        "\n",
        "# Decode the generated summary\n",
        "summary = tokenizer.decode(summary_ids[0], skip_special_tokens=True)\n",
        "\n",
        "# Print the generated summary\n",
        "print(\"Summary:\")\n",
        "print(summary)\n"
      ],
      "metadata": {
        "colab": {
          "base_uri": "https://localhost:8080/"
        },
        "id": "U604m7vJGlXy",
        "outputId": "ca605ccd-7106-477c-c368-4b587b25c0ec"
      },
      "execution_count": null,
      "outputs": [
        {
          "output_type": "stream",
          "name": "stdout",
          "text": [
            "Summary:\n",
            "Your long medical history or patient data text goes here. This could include all the symptoms, treatments, diagnosis, and more details about the patient's condition. For example: The patient has a history of hypertension and diabetes and is currently being treated with medication X and Y. For confidential support call the Samaritans on 08457 90 90 90, visit a local Samaritans branch or see www.samaritans.org.\n"
          ]
        }
      ]
    }
  ]
}